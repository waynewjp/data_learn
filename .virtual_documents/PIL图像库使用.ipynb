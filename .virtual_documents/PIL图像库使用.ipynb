from PIL import Image
# image是PIL中代表一个图像的类
import numpy as np


im=np.array(Image.open("/home/www/jupyter_lab/素材/图片1.png"))
print(im.shape,im.dtype)






