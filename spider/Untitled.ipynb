{
 "cells": [
  {
   "cell_type": "code",
   "execution_count": 3,
   "id": "reflected-victim",
   "metadata": {},
   "outputs": [],
   "source": [
    "from  requests_html import HTMLSession,UserAgent"
   ]
  },
  {
   "cell_type": "code",
   "execution_count": null,
   "id": "southern-label",
   "metadata": {},
   "outputs": [],
   "source": [
    "sessio"
   ]
  },
  {
   "cell_type": "code",
   "execution_count": null,
   "id": "rough-tunisia",
   "metadata": {},
   "outputs": [],
   "source": []
  }
 ],
 "metadata": {
  "kernelspec": {
   "display_name": "Python 3",
   "language": "python",
   "name": "python3"
  },
  "language_info": {
   "codemirror_mode": {
    "name": "ipython",
    "version": 3
   },
   "file_extension": ".py",
   "mimetype": "text/x-python",
   "name": "python",
   "nbconvert_exporter": "python",
   "pygments_lexer": "ipython3",
   "version": "3.8.3"
  }
 },
 "nbformat": 4,
 "nbformat_minor": 5
}
