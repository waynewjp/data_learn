{
 "cells": [
  {
   "cell_type": "code",
   "execution_count": 5,
   "id": "accepting-constitution",
   "metadata": {},
   "outputs": [],
   "source": [
    "#-*- coding:utf-8 -*-\n",
    "import qrcode\n",
    "import time\n",
    "from PIL import Image\n",
    "import matplotlib.pyplot as plt"
   ]
  },
  {
   "cell_type": "code",
   "execution_count": 23,
   "id": "stuck-corporation",
   "metadata": {},
   "outputs": [
    {
     "name": "stdout",
     "output_type": "stream",
     "text": [
      "2021信通岗位新进员工技能强化班\n",
      "原定6月举办\n",
      "\n"
     ]
    }
   ],
   "source": [
    "text1=\"\"\"2021信通岗位新进员工技能强化班\\n\\r原定6月举办\\n\"\"\"\n",
    "print(text1)"
   ]
  },
  {
   "cell_type": "code",
   "execution_count": 28,
   "id": "needed-destination",
   "metadata": {},
   "outputs": [],
   "source": [
    "def qr_code():\n",
    "    # 实例化QRCode生成qr对象\n",
    "    '''\n",
    "    参数 version 表示生成二维码的尺寸大小，取值范围是 1 至 40，最小尺寸 1 会生成 21 * 21 的二维码矩阵，\n",
    "    version 每增加 1，生成的二维码就会添加 4 个单位大小，例如 version 是 2，则生成 25 * 25 尺寸大小的二维码。\n",
    "\n",
    "    参数 error_correction 指定二维码的容错系数，分别有以下4个系数：\n",
    "    ERROR_CORRECT_L: 7%的字码可被容错\n",
    "    ERROR_CORRECT_M: 15%的字码可被容错\n",
    "    ERROR_CORRECT_Q: 25%的字码可被容错\n",
    "    ERROR_CORRECT_H: 30%的字码可被容错\n",
    "\n",
    "    参数 box_size 表示二维码里每个格子的像素大小。\n",
    "    参数 border 表示边框的格子宽度是多少（默认是4）\n",
    "    '''\n",
    "    qr = qrcode.QRCode(\n",
    "        version=2,\n",
    "        error_correction=qrcode.constants.ERROR_CORRECT_H,\n",
    "        box_size=10,\n",
    "        border=1\n",
    "    )\n",
    "    text1='{:<10s}'.format('2021信通岗位新进员工技能强化班\\n\\r')\n",
    "    text2='{:<10s}'.format('原定6月举办') \n",
    "            #延期至7月\"\"\"\n",
    "    #qr.add_data('2021信通岗位新进员工技能强化班\\t\\n')# 添加数据\n",
    "    #qr.add_data('{:<10d}'.format('2021信通岗位新进员工技能强化班\\n\\r'))\n",
    "    qr.add_data(text1)\n",
    "    qr.add_data(text2)\n",
    "    qr.make(fit=True)# 填充数据\n",
    "    \n",
    "   # 生成图片\n",
    "    img = qr.make_image(fill_color=\"green\", back_color=\"white\")\n",
    "    img = img.convert(\"RGBA\")\n",
    "    # 添加logo，打开logo照片\n",
    "    icon = Image.open(r\"jupyter_lab/二维码/国网.jpg\").convert(\"RGBA\")\n",
    "     # 获取图片的宽和搞\n",
    "    img_w, img_h = img.size\n",
    "    # 参数设置logo的大小\n",
    "    factor = 3\n",
    "    size_w = int(img_w / factor)\n",
    "    size_h = int(img_h / factor)\n",
    "    icon_w, icon_h = icon.size\n",
    "    if icon_w > size_w:\n",
    "        icon_w = size_w\n",
    "    if icon_h > size_h:\n",
    "        icon_h = size_h\n",
    "    # 重新设置logo的尺寸\n",
    "    icon = icon.resize((icon_w, icon_h), Image.ANTIALIAS)\n",
    "    # 得到画图的x，y坐标，居中显示\n",
    "    w = int((img_w - icon_w) / 2)\n",
    "    h = int((img_h - icon_h) / 2)\n",
    "    '''\n",
    "    img.paste(path,where,mask=None)\n",
    "    其中，img为image对象；path为所添加图片；where为tuple,如：(x,y)，表示图片所在二维码的横纵坐标\n",
    "    '''\n",
    "    # 黏贴logo照\n",
    "    img.paste(icon, (w, h), icon)\n",
    "    \n",
    "    # img.show()# 自动打开图片\n",
    "    # 终端显示图片\n",
    "    img.save(r\"jupyter_lab/二维码/培训绿码.png\")\n",
    "    plt.imshow(img)\n",
    "    plt.show()\n"
   ]
  },
  {
   "cell_type": "code",
   "execution_count": 29,
   "id": "foreign-canvas",
   "metadata": {},
   "outputs": [
    {
     "ename": "ValueError",
     "evalue": "Unknown format code 'd' for object of type 'str'",
     "output_type": "error",
     "traceback": [
      "\u001b[0;31m---------------------------------------------------------------------------\u001b[0m",
      "\u001b[0;31mValueError\u001b[0m                                Traceback (most recent call last)",
      "\u001b[0;32m<ipython-input-29-d8ae129514c9>\u001b[0m in \u001b[0;36m<module>\u001b[0;34m\u001b[0m\n\u001b[1;32m      1\u001b[0m \u001b[0;32mif\u001b[0m \u001b[0m__name__\u001b[0m \u001b[0;34m==\u001b[0m \u001b[0;34m'__main__'\u001b[0m\u001b[0;34m:\u001b[0m\u001b[0;34m\u001b[0m\u001b[0;34m\u001b[0m\u001b[0m\n\u001b[0;32m----> 2\u001b[0;31m     \u001b[0mqr_code\u001b[0m\u001b[0;34m(\u001b[0m\u001b[0;34m)\u001b[0m\u001b[0;34m\u001b[0m\u001b[0;34m\u001b[0m\u001b[0m\n\u001b[0m",
      "\u001b[0;32m<ipython-input-28-35eb9b620b16>\u001b[0m in \u001b[0;36mqr_code\u001b[0;34m()\u001b[0m\n\u001b[1;32m     24\u001b[0m             \u001b[0;31m#延期至7月\"\"\"\u001b[0m\u001b[0;34m\u001b[0m\u001b[0;34m\u001b[0m\u001b[0;34m\u001b[0m\u001b[0m\n\u001b[1;32m     25\u001b[0m     \u001b[0;31m#qr.add_data('2021信通岗位新进员工技能强化班\\t\\n')# 添加数据\u001b[0m\u001b[0;34m\u001b[0m\u001b[0;34m\u001b[0m\u001b[0;34m\u001b[0m\u001b[0m\n\u001b[0;32m---> 26\u001b[0;31m     \u001b[0mqr\u001b[0m\u001b[0;34m.\u001b[0m\u001b[0madd_data\u001b[0m\u001b[0;34m(\u001b[0m\u001b[0;34m'{:<10d}'\u001b[0m\u001b[0;34m.\u001b[0m\u001b[0mformat\u001b[0m\u001b[0;34m(\u001b[0m\u001b[0;34m'2021信通岗位新进员工技能强化班\\n\\r'\u001b[0m\u001b[0;34m)\u001b[0m\u001b[0;34m)\u001b[0m\u001b[0;34m\u001b[0m\u001b[0;34m\u001b[0m\u001b[0m\n\u001b[0m\u001b[1;32m     27\u001b[0m     \u001b[0;31m#qr.add_data(text2)\u001b[0m\u001b[0;34m\u001b[0m\u001b[0;34m\u001b[0m\u001b[0;34m\u001b[0m\u001b[0m\n\u001b[1;32m     28\u001b[0m     \u001b[0mqr\u001b[0m\u001b[0;34m.\u001b[0m\u001b[0mmake\u001b[0m\u001b[0;34m(\u001b[0m\u001b[0mfit\u001b[0m\u001b[0;34m=\u001b[0m\u001b[0;32mTrue\u001b[0m\u001b[0;34m)\u001b[0m\u001b[0;31m# 填充数据\u001b[0m\u001b[0;34m\u001b[0m\u001b[0;34m\u001b[0m\u001b[0m\n",
      "\u001b[0;31mValueError\u001b[0m: Unknown format code 'd' for object of type 'str'"
     ]
    }
   ],
   "source": [
    "if __name__ == '__main__':\n",
    "    qr_code()"
   ]
  },
  {
   "cell_type": "code",
   "execution_count": null,
   "id": "entertaining-special",
   "metadata": {},
   "outputs": [],
   "source": []
  }
 ],
 "metadata": {
  "kernelspec": {
   "display_name": "Python 3",
   "language": "python",
   "name": "python3"
  },
  "language_info": {
   "codemirror_mode": {
    "name": "ipython",
    "version": 3
   },
   "file_extension": ".py",
   "mimetype": "text/x-python",
   "name": "python",
   "nbconvert_exporter": "python",
   "pygments_lexer": "ipython3",
   "version": "3.8.3"
  }
 },
 "nbformat": 4,
 "nbformat_minor": 5
}
