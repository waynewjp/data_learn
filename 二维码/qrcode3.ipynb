{
 "cells": [
  {
   "cell_type": "code",
   "execution_count": 46,
   "id": "automotive-louisiana",
   "metadata": {},
   "outputs": [],
   "source": [
    "#-*- coding:utf-8 -*-\n",
    "import qrcode\n",
    "import time\n",
    "from PIL import Image\n",
    "import matplotlib.pyplot as plt"
   ]
  },
  {
   "cell_type": "code",
   "execution_count": 47,
   "id": "respiratory-strain",
   "metadata": {},
   "outputs": [
    {
     "name": "stdout",
     "output_type": "stream",
     "text": [
      "2021信通岗位新进员工技能强化班\n",
      "原定6月举办\n",
      "\n"
     ]
    }
   ],
   "source": [
    "text1=\"\"\"2021信通岗位新进员工技能强化班\\n\\r原定6月举办\\n\"\"\"\n",
    "print(text1)"
   ]
  },
  {
   "cell_type": "code",
   "execution_count": 60,
   "id": "diverse-helicopter",
   "metadata": {},
   "outputs": [],
   "source": [
    "def qr_code(name,origin_date,real_date):\n",
    "    # 实例化QRCode生成qr对象\n",
    "    '''\n",
    "    参数 version 表示生成二维码的尺寸大小，取值范围是 1 至 40，最小尺寸 1 会生成 21 * 21 的二维码矩阵，\n",
    "    version 每增加 1，生成的二维码就会添加 4 个单位大小，例如 version 是 2，则生成 25 * 25 尺寸大小的二维码。\n",
    "\n",
    "    参数 error_correction 指定二维码的容错系数，分别有以下4个系数：\n",
    "    ERROR_CORRECT_L: 7%的字码可被容错\n",
    "    ERROR_CORRECT_M: 15%的字码可被容错\n",
    "    ERROR_CORRECT_Q: 25%的字码可被容错\n",
    "    ERROR_CORRECT_H: 30%的字码可被容错\n",
    "\n",
    "    参数 box_size 表示二维码里每个格子的像素大小。\n",
    "    参数 border 表示边框的格子宽度是多少（默认是4）\n",
    "    '''\n",
    "    qr = qrcode.QRCode(\n",
    "        version=2,\n",
    "        error_correction=qrcode.constants.ERROR_CORRECT_H,\n",
    "        box_size=10,\n",
    "        border=1\n",
    "    )\n",
    "   \n",
    "    \n",
    "            #延期至7月\"\"\"\n",
    "#     qr.add_data('2021信通岗位新进员工技能强化班,原定6月,延期至7月')# 添加数据\n",
    "    month1=int(origin_date[4:6])\n",
    "    if real_date is None:\n",
    "        color='red'\n",
    "    else:\n",
    "        month2=int(real_date[4:6])\n",
    "        if month1==month2:\n",
    "            color='green'\n",
    "        else:\n",
    "            color='yellow'\n",
    "\n",
    "    if color=='green':\n",
    "        qr.add_data('%s%d举办'%(name,month1))\n",
    "    elif color=='yellow':\n",
    "        qr.add_data('%s,原定%d月,延期至%d月'%(name,month1,month2))# 添加数据\n",
    "    elif color=='red':\n",
    "        qr.add_data('%s取消'%name)# 添加数据\n",
    "    #qr.add_data('{:<10d}'.format('2021信通岗位新进员工技能强化班\\n\\r'))\n",
    "    #qr.add_data(text1)\n",
    "    #qr.add_data(text2)\n",
    "    qr.make(fit=True)# 填充数据\n",
    "    \n",
    "   # 生成图片\n",
    "    img = qr.make_image(fill_color=color, back_color=\"white\")\n",
    "    img = img.convert(\"RGBA\")\n",
    "    # 添加logo，打开logo照片\n",
    "    icon = Image.open(r\"jupyter_lab/二维码/国网.jpg\").convert(\"RGBA\")\n",
    "     # 获取图片的宽和搞\n",
    "    img_w, img_h = img.size\n",
    "    # 参数设置logo的大小\n",
    "    factor = 3\n",
    "    size_w = int(img_w / factor)\n",
    "    size_h = int(img_h / factor)\n",
    "    icon_w, icon_h = icon.size\n",
    "    if icon_w > size_w:\n",
    "        icon_w = size_w\n",
    "    if icon_h > size_h:\n",
    "        icon_h = size_h\n",
    "    # 重新设置logo的尺寸\n",
    "    icon = icon.resize((icon_w, icon_h), Image.ANTIALIAS)\n",
    "    # 得到画图的x，y坐标，居中显示\n",
    "    w = int((img_w - icon_w) / 2)\n",
    "    h = int((img_h - icon_h) / 2)\n",
    "    '''\n",
    "    img.paste(path,where,mask=None)\n",
    "    其中，img为image对象；path为所添加图片；where为tuple,如：(x,y)，表示图片所在二维码的横纵坐标\n",
    "    '''\n",
    "    # 黏贴logo照\n",
    "    img.paste(icon, (w, h), icon)\n",
    "    \n",
    "    # img.show()# 自动打开图片\n",
    "    # 终端显示图片\n",
    "    img.save(r\"jupyter_lab/二维码/培训绿码.png\")\n",
    "    plt.imshow(img)\n",
    "    plt.show()\n",
    "\n",
    "def "
   ]
  },
  {
   "cell_type": "code",
   "execution_count": 61,
   "id": "developing-nicholas",
   "metadata": {},
   "outputs": [
    {
     "data": {
      "image/png": "[encoded data removed]",
      "text/plain": [
       "<Figure size 432x288 with 1 Axes>"
      ]
     },
     "metadata": {
      "needs_background": "light"
     },
     "output_type": "display_data"
    }
   ],
   "source": [
    "if __name__ == '__main__':\n",
    "    \n",
    "    name='2021信通岗位新进员工技能强化班'\n",
    "    origin_date='20210606'\n",
    "    real_date=None\n",
    "    qr_code(name,origin_date,real_date)\n",
    "    #origin_date==real_date,green\n",
    "    #origin_date<real_date,yellow\n",
    "    #real_date is None\n",
    "    #20210521\n"
   ]
  },
  {
   "cell_type": "code",
   "execution_count": null,
   "id": "expressed-prison",
   "metadata": {},
   "outputs": [],
   "source": []
  }
 ],
 "metadata": {
  "kernelspec": {
   "display_name": "Python 3",
   "language": "python",
   "name": "python3"
  },
  "language_info": {
   "codemirror_mode": {
    "name": "ipython",
    "version": 3
   },
   "file_extension": ".py",
   "mimetype": "text/x-python",
   "name": "python",
   "nbconvert_exporter": "python",
   "pygments_lexer": "ipython3",
   "version": "3.8.3"
  }
 },
 "nbformat": 4,
 "nbformat_minor": 5
}
