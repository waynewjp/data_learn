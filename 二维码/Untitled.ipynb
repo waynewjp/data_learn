{
 "cells": [
  {
   "cell_type": "code",
   "execution_count": 4,
   "id": "exact-kenya",
   "metadata": {},
   "outputs": [],
   "source": [
    "#-*- coding:utf-8 -*-\n",
    "import qrcode\n",
    "import time\n",
    "from PIL import Image\n",
    "import matplotlib.pyplot as plt"
   ]
  },
  {
   "cell_type": "code",
   "execution_count": null,
   "id": "suffering-sarah",
   "metadata": {},
   "outputs": [],
   "source": [
    "def qr_code_3():\n",
    "    # 实例化QRCode生成qr对象\n",
    "    qr = qrcode.QRCode(\n",
    "        version=2,\n",
    "        error_correction=qrcode.constants.ERROR_CORRECT_H,\n",
    "        box_size=10,\n",
    "        border=1\n",
    "    )\n",
    "    qr.add_data(\"2021信通岗位新进员工技能强化班\")# 添加数据\n",
    "    qr.make(fit=True)# 填充数据\n"
   ]
  },
  {
   "cell_type": "code",
   "execution_count": null,
   "id": "dynamic-ceremony",
   "metadata": {},
   "outputs": [],
   "source": []
  }
 ],
 "metadata": {
  "kernelspec": {
   "display_name": "Python 3",
   "language": "python",
   "name": "python3"
  },
  "language_info": {
   "codemirror_mode": {
    "name": "ipython",
    "version": 3
   },
   "file_extension": ".py",
   "mimetype": "text/x-python",
   "name": "python",
   "nbconvert_exporter": "python",
   "pygments_lexer": "ipython3",
   "version": "3.8.3"
  }
 },
 "nbformat": 4,
 "nbformat_minor": 5
}
