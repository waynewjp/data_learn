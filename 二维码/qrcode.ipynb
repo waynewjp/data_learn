{
 "cells": [
  {
   "cell_type": "code",
   "execution_count": 4,
   "id": "first-inventory",
   "metadata": {},
   "outputs": [],
   "source": [
    "import qrcode"
   ]
  },
  {
   "cell_type": "code",
   "execution_count": 13,
   "id": "useful-enemy",
   "metadata": {},
   "outputs": [],
   "source": [
    "# 方法1\n",
    "def qr_code_1():\n",
    "    #调用qrcode的make()方法传入url或者想要展示的内容\n",
    "    img = qrcode.make('hello,world')\n",
    "    print(img)\n",
    "    #保存\n",
    "    with open(r'test1.png', 'wb') as f:\n",
    "        img.save(f)"
   ]
  },
  {
   "cell_type": "code",
   "execution_count": 14,
   "id": "front-brake",
   "metadata": {},
   "outputs": [
    {
     "name": "stdout",
     "output_type": "stream",
     "text": [
      "<qrcode.image.pil.PilImage object at 0x7f695a8d0a60>\n"
     ]
    }
   ],
   "source": [
    "if __name__ == '__main__':\n",
    "    qr_code_1()"
   ]
  },
  {
   "cell_type": "code",
   "execution_count": null,
   "id": "vulnerable-arrow",
   "metadata": {},
   "outputs": [],
   "source": []
  }
 ],
 "metadata": {
  "kernelspec": {
   "display_name": "Python 3",
   "language": "python",
   "name": "python3"
  },
  "language_info": {
   "codemirror_mode": {
    "name": "ipython",
    "version": 3
   },
   "file_extension": ".py",
   "mimetype": "text/x-python",
   "name": "python",
   "nbconvert_exporter": "python",
   "pygments_lexer": "ipython3",
   "version": "3.8.3"
  }
 },
 "nbformat": 4,
 "nbformat_minor": 5
}
