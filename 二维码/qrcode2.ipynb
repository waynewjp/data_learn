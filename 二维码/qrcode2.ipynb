{
 "cells": [
  {
   "cell_type": "code",
   "execution_count": 17,
   "id": "cardiac-boston",
   "metadata": {},
   "outputs": [],
   "source": [
    "import qrcode"
   ]
  },
  {
   "cell_type": "code",
   "execution_count": 18,
   "id": "forty-fantasy",
   "metadata": {},
   "outputs": [],
   "source": [
    "def qr_code_2():\n",
    "    '''\n",
    "    参数 version 表示生成二维码的尺寸大小，取值范围是 1 至 40，最小尺寸 1 会生成 21 * 21 的二维码矩阵，\n",
    "    version 每增加 1，生成的二维码就会添加 4 个单位大小，例如 version 是 2，则生成 25 * 25 尺寸大小的二维码。\n",
    "\n",
    "    参数 error_correction 指定二维码的容错系数，分别有以下4个系数：\n",
    "    ERROR_CORRECT_L: 7%的字码可被容错\n",
    "    ERROR_CORRECT_M: 15%的字码可被容错\n",
    "    ERROR_CORRECT_Q: 25%的字码可被容错\n",
    "    ERROR_CORRECT_H: 30%的字码可被容错\n",
    "\n",
    "    参数 box_size 表示二维码里每个格子的像素大小。\n",
    "    参数 border 表示边框的格子宽度是多少（默认是4）\n",
    "    '''\n",
    "    # 实例化QRCode生成qr对象\n",
    "    qr=qrcode.QRCode(\n",
    "        version=2,\n",
    "        error_correction=qrcode.constants.ERROR_CORRECT_H,\n",
    "        box_size=10,\n",
    "        border=1\n",
    "    )\n",
    "     # 调用qrcode的make()方法传入url或者想要展示的内容\n",
    "    qr.add_data(\"2021信通岗位新进员工技能强化班\")\n",
    "    qr.make(fit=True)# 填充数据\n",
    "    img = qr.make_image() # 生成图片\n",
    "    img.save(r\"jupyter_lab/二维码/test2.png\")\n"
   ]
  },
  {
   "cell_type": "code",
   "execution_count": 19,
   "id": "small-confidence",
   "metadata": {},
   "outputs": [],
   "source": [
    "if __name__ == '__main__':\n",
    "    qr_code_2()"
   ]
  },
  {
   "cell_type": "code",
   "execution_count": null,
   "id": "executed-clearing",
   "metadata": {},
   "outputs": [],
   "source": []
  },
  {
   "cell_type": "code",
   "execution_count": null,
   "id": "amino-buyer",
   "metadata": {},
   "outputs": [],
   "source": []
  }
 ],
 "metadata": {
  "kernelspec": {
   "display_name": "Python 3",
   "language": "python",
   "name": "python3"
  },
  "language_info": {
   "codemirror_mode": {
    "name": "ipython",
    "version": 3
   },
   "file_extension": ".py",
   "mimetype": "text/x-python",
   "name": "python",
   "nbconvert_exporter": "python",
   "pygments_lexer": "ipython3",
   "version": "3.8.3"
  }
 },
 "nbformat": 4,
 "nbformat_minor": 5
}
