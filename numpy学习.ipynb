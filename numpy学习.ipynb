{
 "cells": [
  {
   "cell_type": "code",
   "execution_count": 23,
   "metadata": {},
   "outputs": [],
   "source": [
    "import numpy as np"
   ]
  },
  {
   "cell_type": "markdown",
   "metadata": {},
   "source": [
    "[TOC]\n",
    "# 一、ndarray类型\n",
    "* 数组类型，使对于一组数据的运算更为简单，将一个数据作为一个对象，直接和其他数据计算即可，不用传统循环\n",
    "* 作为多维数组,下标从0开始，定义时需要注意，是一个几维几列的数组，因此最外层用[]，里面是每行"
   ]
  },
  {
   "cell_type": "code",
   "execution_count": 84,
   "metadata": {},
   "outputs": [
    {
     "name": "stdout",
     "output_type": "stream",
     "text": [
      "[[ 1  2  3  4]\n",
      " [11 22 33 44]]\n"
     ]
    }
   ],
   "source": [
    "a=np.array([[1,2,3,4],[11,22,33,44]])\n",
    "print(a)"
   ]
  },
  {
   "cell_type": "code",
   "execution_count": 85,
   "metadata": {},
   "outputs": [
    {
     "data": {
      "text/plain": [
       "(2, 4)"
      ]
     },
     "execution_count": 85,
     "metadata": {},
     "output_type": "execute_result"
    }
   ],
   "source": [
    "a.shape"
   ]
  },
  {
   "cell_type": "code",
   "execution_count": 86,
   "metadata": {},
   "outputs": [
    {
     "data": {
      "text/plain": [
       "8"
      ]
     },
     "execution_count": 86,
     "metadata": {},
     "output_type": "execute_result"
    }
   ],
   "source": [
    "a.size"
   ]
  },
  {
   "cell_type": "code",
   "execution_count": 87,
   "metadata": {},
   "outputs": [
    {
     "data": {
      "text/plain": [
       "dtype('int64')"
      ]
     },
     "execution_count": 87,
     "metadata": {},
     "output_type": "execute_result"
    }
   ],
   "source": [
    "a.dtype"
   ]
  },
  {
   "cell_type": "markdown",
   "metadata": {},
   "source": [
    "# 二、创建\n",
    "有三种方法创建ndarray：\n",
    "* 由Python的列表、元组创建\n",
    "* 用numpy中的函数创建，如：arange,ones,zeros\n",
    "* 由字节流中创建\n",
    "## 1.从python类型创建"
   ]
  },
  {
   "cell_type": "code",
   "execution_count": 30,
   "metadata": {},
   "outputs": [
    {
     "name": "stdout",
     "output_type": "stream",
     "text": [
      "[ 1 22 34 12 33]\n"
     ]
    }
   ],
   "source": [
    "a=[1,22,34,12,33]\n",
    "x=np.array(a)\n",
    "print(x)"
   ]
  },
  {
   "cell_type": "code",
   "execution_count": 29,
   "metadata": {},
   "outputs": [
    {
     "name": "stdout",
     "output_type": "stream",
     "text": [
      "[4 5 6 7]\n"
     ]
    }
   ],
   "source": [
    "x=np.array((4,5,6,7))\n",
    "print(x)"
   ]
  },
  {
   "cell_type": "code",
   "execution_count": 31,
   "metadata": {},
   "outputs": [
    {
     "name": "stdout",
     "output_type": "stream",
     "text": [
      "[[1.  2. ]\n",
      " [9.  3. ]\n",
      " [0.1 2.2]]\n"
     ]
    }
   ],
   "source": [
    "x=np.array([[1,2],[9,3],[0.1,2.2]])\n",
    "print(x)"
   ]
  },
  {
   "cell_type": "markdown",
   "metadata": {},
   "source": [
    "## 2.从numpy函数创建\n",
    "* np.arange(n) 类似Python的range，生成一个0..n-1的一维数组\n",
    "* np.ones(shape) 依据shape形状生成全1数组\n",
    "* np.zeros(shape) 全0\n",
    "* np.full(shape,val) 全val值数组\n",
    "* np.eye(n) 正方形n*n数组，对角线为1，其余0"
   ]
  },
  {
   "cell_type": "code",
   "execution_count": 88,
   "metadata": {},
   "outputs": [
    {
     "data": {
      "text/plain": [
       "array([0, 1, 2, 3, 4, 5, 6, 7, 8, 9])"
      ]
     },
     "execution_count": 88,
     "metadata": {},
     "output_type": "execute_result"
    }
   ],
   "source": [
    "np.arange(10)"
   ]
  },
  {
   "cell_type": "code",
   "execution_count": 34,
   "metadata": {},
   "outputs": [
    {
     "data": {
      "text/plain": [
       "array([[1., 1., 1., 1.],\n",
       "       [1., 1., 1., 1.],\n",
       "       [1., 1., 1., 1.]])"
      ]
     },
     "execution_count": 34,
     "metadata": {},
     "output_type": "execute_result"
    }
   ],
   "source": [
    "np.ones((3,4))"
   ]
  },
  {
   "cell_type": "code",
   "execution_count": 36,
   "metadata": {},
   "outputs": [
    {
     "name": "stdout",
     "output_type": "stream",
     "text": [
      "[[0 0 0]\n",
      " [0 0 0]]\n"
     ]
    }
   ],
   "source": [
    "x=np.zeros((2,3),dtype=np.int32)\n",
    "print(x)"
   ]
  },
  {
   "cell_type": "code",
   "execution_count": 37,
   "metadata": {},
   "outputs": [
    {
     "data": {
      "text/plain": [
       "array([[1., 0., 0., 0., 0.],\n",
       "       [0., 1., 0., 0., 0.],\n",
       "       [0., 0., 1., 0., 0.],\n",
       "       [0., 0., 0., 1., 0.],\n",
       "       [0., 0., 0., 0., 1.]])"
      ]
     },
     "execution_count": 37,
     "metadata": {},
     "output_type": "execute_result"
    }
   ],
   "source": [
    "np.eye(5)"
   ]
  },
  {
   "cell_type": "code",
   "execution_count": 38,
   "metadata": {},
   "outputs": [
    {
     "name": "stdout",
     "output_type": "stream",
     "text": [
      "[[[1. 1. 1. 1.]\n",
      "  [1. 1. 1. 1.]\n",
      "  [1. 1. 1. 1.]]\n",
      "\n",
      " [[1. 1. 1. 1.]\n",
      "  [1. 1. 1. 1.]\n",
      "  [1. 1. 1. 1.]]]\n"
     ]
    }
   ],
   "source": [
    "# 生成多维数组\n",
    "x=np.ones((2,3,4))\n",
    "print(x)"
   ]
  },
  {
   "cell_type": "code",
   "execution_count": 39,
   "metadata": {},
   "outputs": [
    {
     "name": "stdout",
     "output_type": "stream",
     "text": [
      "(2, 3, 4)\n"
     ]
    }
   ],
   "source": [
    "print(x.shape)"
   ]
  },
  {
   "cell_type": "markdown",
   "metadata": {},
   "source": [
    "* np.linespace() 根据起止数据等间距填充数据生成数组\n",
    "* np.concatenate() 将两个或多个数组合并成一个新的数组"
   ]
  },
  {
   "cell_type": "code",
   "execution_count": 42,
   "metadata": {},
   "outputs": [
    {
     "name": "stdout",
     "output_type": "stream",
     "text": [
      "[ 1.  4.  7. 10.]\n"
     ]
    }
   ],
   "source": [
    "x=np.linspace(1,10,4)\n",
    "# 1..10起止位置，4是生成4个元素,默认浮点数\n",
    "print(x)"
   ]
  },
  {
   "cell_type": "code",
   "execution_count": 44,
   "metadata": {},
   "outputs": [
    {
     "name": "stdout",
     "output_type": "stream",
     "text": [
      "[1.   3.25 5.5  7.75]\n"
     ]
    }
   ],
   "source": [
    "y=np.linspace(1,10,4,endpoint=False)\n",
    "print(y)"
   ]
  },
  {
   "cell_type": "code",
   "execution_count": 45,
   "metadata": {},
   "outputs": [
    {
     "name": "stdout",
     "output_type": "stream",
     "text": [
      "[ 1.    4.    7.   10.    1.    3.25  5.5   7.75]\n"
     ]
    }
   ],
   "source": [
    "# 合并两个一维数组，元素合并，还是个一维数组\n",
    "c=np.concatenate((x,y))\n",
    "print(c)"
   ]
  },
  {
   "cell_type": "markdown",
   "metadata": {},
   "source": [
    "# 三.数组的维度变换\n",
    "* .reshape(shape) 不改变数组元素，返回一个新的shape类型数组，原来数组不变（注意：改变前后两个数组总元素个数要一致，否则无法转换）\n",
    "* .resize(shape) 与reshape功能一致，但修改原来数组\n",
    "* .swapaxes(ax1,ax2) 将数组N个维度中的两个维度进行调换\n",
    "* .flatten() 对数据进行降维，返回折叠后的一维数组，原来数组不变\n",
    "* .astype(new_type) 将原数组类型转换为新类型，生成新的\n",
    "* .tolist() 将ndarray数组转换成 ptyohn中的List "
   ]
  },
  {
   "cell_type": "code",
   "execution_count": 52,
   "metadata": {},
   "outputs": [
    {
     "name": "stdout",
     "output_type": "stream",
     "text": [
      "[[[1 1 1 1]\n",
      "  [1 1 1 1]\n",
      "  [1 1 1 1]]\n",
      "\n",
      " [[1 1 1 1]\n",
      "  [1 1 1 1]\n",
      "  [1 1 1 1]]]\n",
      "-----2,3,4和3，8总个数不变 ，都是24-----------------\n",
      "[[1 1 1 1 1 1 1 1]\n",
      " [1 1 1 1 1 1 1 1]\n",
      " [1 1 1 1 1 1 1 1]]\n"
     ]
    }
   ],
   "source": [
    "x=np.ones((2,3,4),dtype=np.int32)\n",
    "print(x)\n",
    "print('-----2,3,4和3，8总个数不变 ，都是24-----------------')\n",
    "y=x.reshape((3,8))\n",
    "print(y)"
   ]
  },
  {
   "cell_type": "code",
   "execution_count": 53,
   "metadata": {},
   "outputs": [
    {
     "name": "stdout",
     "output_type": "stream",
     "text": [
      "[1 1 1 1 1 1 1 1 1 1 1 1 1 1 1 1 1 1 1 1 1 1 1 1]\n"
     ]
    }
   ],
   "source": [
    "# 将任何数据降到一维，原来数组不变\n",
    "z=x.flatten()\n",
    "print(z)"
   ]
  },
  {
   "cell_type": "code",
   "execution_count": 54,
   "metadata": {},
   "outputs": [
    {
     "name": "stdout",
     "output_type": "stream",
     "text": [
      "[[[1. 1. 1. 1.]\n",
      "  [1. 1. 1. 1.]\n",
      "  [1. 1. 1. 1.]]\n",
      "\n",
      " [[1. 1. 1. 1.]\n",
      "  [1. 1. 1. 1.]\n",
      "  [1. 1. 1. 1.]]]\n"
     ]
    }
   ],
   "source": [
    "y=x.astype(np.float)\n",
    "print(y)"
   ]
  },
  {
   "cell_type": "code",
   "execution_count": 55,
   "metadata": {},
   "outputs": [
    {
     "name": "stdout",
     "output_type": "stream",
     "text": [
      "[[[11 11 11 11]\n",
      "  [11 11 11 11]\n",
      "  [11 11 11 11]]\n",
      "\n",
      " [[11 11 11 11]\n",
      "  [11 11 11 11]\n",
      "  [11 11 11 11]]]\n",
      "---------多维数组转list-----------\n",
      "[[[11, 11, 11, 11], [11, 11, 11, 11], [11, 11, 11, 11]], [[11, 11, 11, 11], [11, 11, 11, 11], [11, 11, 11, 11]]]\n"
     ]
    }
   ],
   "source": [
    "x=np.full((2,3,4),11,dtype=np.int)\n",
    "print(x)\n",
    "print('---------多维数组转list-----------')\n",
    "print(x.tolist())"
   ]
  },
  {
   "cell_type": "markdown",
   "metadata": {},
   "source": [
    "# 四、数组的索引和切片\n",
    "## 1.一维数组的索引和切片\n",
    "* 索引通过[序号]\n",
    "* 切片通过 [ : : ]两个：的方式设定起止，步长来切"
   ]
  },
  {
   "cell_type": "code",
   "execution_count": 56,
   "metadata": {},
   "outputs": [],
   "source": [
    "x=np.array([9,8,7,6,5,4])"
   ]
  },
  {
   "cell_type": "code",
   "execution_count": 57,
   "metadata": {},
   "outputs": [
    {
     "data": {
      "text/plain": [
       "7"
      ]
     },
     "execution_count": 57,
     "metadata": {},
     "output_type": "execute_result"
    }
   ],
   "source": [
    "x[2]"
   ]
  },
  {
   "cell_type": "code",
   "execution_count": 58,
   "metadata": {},
   "outputs": [
    {
     "data": {
      "text/plain": [
       "array([8, 6])"
      ]
     },
     "execution_count": 58,
     "metadata": {},
     "output_type": "execute_result"
    }
   ],
   "source": [
    "x[1:5:2] #从下标1到5 ，步长2，切片出来也是一个ndarray数组"
   ]
  },
  {
   "cell_type": "markdown",
   "metadata": {},
   "source": [
    "## 2.多维数组的索引和切片\n",
    "* 索引通过 [ ， ，] 按维度序号\n",
    "* 切片通过 [ : ，: ，：] ：用来起止   ，用来区分维度"
   ]
  },
  {
   "cell_type": "code",
   "execution_count": 59,
   "metadata": {},
   "outputs": [
    {
     "name": "stdout",
     "output_type": "stream",
     "text": [
      "[[[ 0  1  2  3]\n",
      "  [ 4  5  6  7]\n",
      "  [ 8  9 10 11]]\n",
      "\n",
      " [[12 13 14 15]\n",
      "  [16 17 18 19]\n",
      "  [20 21 22 23]]]\n"
     ]
    }
   ],
   "source": [
    "x=np.arange(24).reshape((2,3,4))\n",
    "print(x)"
   ]
  },
  {
   "cell_type": "code",
   "execution_count": 61,
   "metadata": {},
   "outputs": [
    {
     "data": {
      "text/plain": [
       "23"
      ]
     },
     "execution_count": 61,
     "metadata": {},
     "output_type": "execute_result"
    }
   ],
   "source": [
    "x[1,2,3] #从三维数组，从层按需要索引出元素23来"
   ]
  },
  {
   "cell_type": "code",
   "execution_count": 62,
   "metadata": {},
   "outputs": [
    {
     "data": {
      "text/plain": [
       "array([ 5, 17])"
      ]
     },
     "execution_count": 62,
     "metadata": {},
     "output_type": "execute_result"
    }
   ],
   "source": [
    "x[:,1,-3]  # 第一个 : 表示不关心第一个维度，  第二个表示第二个维度取1  ， 第三个表时第三个维度取倒数第三个"
   ]
  },
  {
   "cell_type": "code",
   "execution_count": 65,
   "metadata": {},
   "outputs": [
    {
     "data": {
      "text/plain": [
       "array([[[ 4,  5,  6,  7],\n",
       "        [ 8,  9, 10, 11]],\n",
       "\n",
       "       [[16, 17, 18, 19],\n",
       "        [20, 21, 22, 23]]])"
      ]
     },
     "execution_count": 65,
     "metadata": {},
     "output_type": "execute_result"
    }
   ],
   "source": [
    "x[:,1:3,:]"
   ]
  },
  {
   "cell_type": "code",
   "execution_count": 67,
   "metadata": {},
   "outputs": [
    {
     "data": {
      "text/plain": [
       "array([[[ 0,  2],\n",
       "        [ 4,  6],\n",
       "        [ 8, 10]],\n",
       "\n",
       "       [[12, 14],\n",
       "        [16, 18],\n",
       "        [20, 22]]])"
      ]
     },
     "execution_count": 67,
     "metadata": {},
     "output_type": "execute_result"
    }
   ],
   "source": [
    "x[:,:,::2] #仅第三个维度按步长2取值"
   ]
  },
  {
   "cell_type": "markdown",
   "metadata": {},
   "source": [
    "# 五、运算\n",
    "## 1.一元函数\n",
    "* abs(x)  fabs(x) 计算数组各元素的绝对值\n",
    "* sqrt(x) 平方根\n",
    "* square(x) 平方\n",
    "* log(x)  log10(x)  log2(x) \n",
    "* ceil(x) floor(x) \n",
    "* rint(x) 四舍五入\n",
    "* modf(x) 将每个元素的整数、小数分别返回\n",
    "* cos(x) sin tan\n",
    "## 2.二元函数\n",
    "* +-*/ ** 等\n",
    "* < > == !="
   ]
  },
  {
   "cell_type": "code",
   "execution_count": 71,
   "metadata": {},
   "outputs": [
    {
     "name": "stdout",
     "output_type": "stream",
     "text": [
      "[[[ 0  1  2  3]\n",
      "  [ 4  5  6  7]\n",
      "  [ 8  9 10 11]]\n",
      "\n",
      " [[12 13 14 15]\n",
      "  [16 17 18 19]\n",
      "  [20 21 22 23]]]\n",
      "[[[  0   1   4   9]\n",
      "  [ 16  25  36  49]\n",
      "  [ 64  81 100 121]]\n",
      "\n",
      " [[144 169 196 225]\n",
      "  [256 289 324 361]\n",
      "  [400 441 484 529]]]\n"
     ]
    }
   ],
   "source": [
    "x=np.arange(24).reshape((2,3,4))\n",
    "y=np.square(x)\n",
    "print(x)\n",
    "print(y)"
   ]
  },
  {
   "cell_type": "code",
   "execution_count": 72,
   "metadata": {},
   "outputs": [
    {
     "data": {
      "text/plain": [
       "array([[[  0,   1,   4,   9],\n",
       "        [ 16,  25,  36,  49],\n",
       "        [ 64,  81, 100, 121]],\n",
       "\n",
       "       [[144, 169, 196, 225],\n",
       "        [256, 289, 324, 361],\n",
       "        [400, 441, 484, 529]]])"
      ]
     },
     "execution_count": 72,
     "metadata": {},
     "output_type": "execute_result"
    }
   ],
   "source": [
    "# 求两个数组的最大值\n",
    "np.maximum(x,y)"
   ]
  },
  {
   "cell_type": "code",
   "execution_count": 74,
   "metadata": {},
   "outputs": [
    {
     "data": {
      "text/plain": [
       "array([[[False, False, False, False],\n",
       "        [False, False, False, False],\n",
       "        [False, False, False, False]],\n",
       "\n",
       "       [[False, False, False, False],\n",
       "        [False, False, False, False],\n",
       "        [False, False, False, False]]])"
      ]
     },
     "execution_count": 74,
     "metadata": {},
     "output_type": "execute_result"
    }
   ],
   "source": [
    "# 数组的比较\n",
    "x > y"
   ]
  },
  {
   "cell_type": "markdown",
   "metadata": {},
   "source": [
    "# 六、numpy数据的文件存取\n",
    "## 1.csv文件\n",
    "### （1）写入\n",
    "```python\n",
    "np.savetxt (frame,array,fmt='%.18e',delimiter=none)\n",
    "```\n",
    "* frame: 文件、字符串或产生器，也可以是gz,bz2压缩文件\n",
    "* array:存入文件的数组\n",
    "* fmt:写入文件的格式，如 %d %0.2f\n",
    "* delimiter:分割字符串，默认为空格，csv要求为,"
   ]
  },
  {
   "cell_type": "code",
   "execution_count": 75,
   "metadata": {},
   "outputs": [],
   "source": [
    "x=np.arange(100).reshape(5,20)\n",
    "np.savetxt('x.csv',x,fmt='%.1f',delimiter=',')"
   ]
  },
  {
   "cell_type": "code",
   "execution_count": 76,
   "metadata": {},
   "outputs": [
    {
     "data": {
      "text/html": [
       "<div>\n",
       "<style scoped>\n",
       "    .dataframe tbody tr th:only-of-type {\n",
       "        vertical-align: middle;\n",
       "    }\n",
       "\n",
       "    .dataframe tbody tr th {\n",
       "        vertical-align: top;\n",
       "    }\n",
       "\n",
       "    .dataframe thead th {\n",
       "        text-align: right;\n",
       "    }\n",
       "</style>\n",
       "<table border=\"1\" class=\"dataframe\">\n",
       "  <thead>\n",
       "    <tr style=\"text-align: right;\">\n",
       "      <th></th>\n",
       "      <th>0.0</th>\n",
       "      <th>1.0</th>\n",
       "      <th>2.0</th>\n",
       "      <th>3.0</th>\n",
       "      <th>4.0</th>\n",
       "      <th>5.0</th>\n",
       "      <th>6.0</th>\n",
       "      <th>7.0</th>\n",
       "      <th>8.0</th>\n",
       "      <th>9.0</th>\n",
       "      <th>10.0</th>\n",
       "      <th>11.0</th>\n",
       "      <th>12.0</th>\n",
       "      <th>13.0</th>\n",
       "      <th>14.0</th>\n",
       "      <th>15.0</th>\n",
       "      <th>16.0</th>\n",
       "      <th>17.0</th>\n",
       "      <th>18.0</th>\n",
       "      <th>19.0</th>\n",
       "    </tr>\n",
       "  </thead>\n",
       "  <tbody>\n",
       "    <tr>\n",
       "      <th>0</th>\n",
       "      <td>20.0</td>\n",
       "      <td>21.0</td>\n",
       "      <td>22.0</td>\n",
       "      <td>23.0</td>\n",
       "      <td>24.0</td>\n",
       "      <td>25.0</td>\n",
       "      <td>26.0</td>\n",
       "      <td>27.0</td>\n",
       "      <td>28.0</td>\n",
       "      <td>29.0</td>\n",
       "      <td>30.0</td>\n",
       "      <td>31.0</td>\n",
       "      <td>32.0</td>\n",
       "      <td>33.0</td>\n",
       "      <td>34.0</td>\n",
       "      <td>35.0</td>\n",
       "      <td>36.0</td>\n",
       "      <td>37.0</td>\n",
       "      <td>38.0</td>\n",
       "      <td>39.0</td>\n",
       "    </tr>\n",
       "    <tr>\n",
       "      <th>1</th>\n",
       "      <td>40.0</td>\n",
       "      <td>41.0</td>\n",
       "      <td>42.0</td>\n",
       "      <td>43.0</td>\n",
       "      <td>44.0</td>\n",
       "      <td>45.0</td>\n",
       "      <td>46.0</td>\n",
       "      <td>47.0</td>\n",
       "      <td>48.0</td>\n",
       "      <td>49.0</td>\n",
       "      <td>50.0</td>\n",
       "      <td>51.0</td>\n",
       "      <td>52.0</td>\n",
       "      <td>53.0</td>\n",
       "      <td>54.0</td>\n",
       "      <td>55.0</td>\n",
       "      <td>56.0</td>\n",
       "      <td>57.0</td>\n",
       "      <td>58.0</td>\n",
       "      <td>59.0</td>\n",
       "    </tr>\n",
       "    <tr>\n",
       "      <th>2</th>\n",
       "      <td>60.0</td>\n",
       "      <td>61.0</td>\n",
       "      <td>62.0</td>\n",
       "      <td>63.0</td>\n",
       "      <td>64.0</td>\n",
       "      <td>65.0</td>\n",
       "      <td>66.0</td>\n",
       "      <td>67.0</td>\n",
       "      <td>68.0</td>\n",
       "      <td>69.0</td>\n",
       "      <td>70.0</td>\n",
       "      <td>71.0</td>\n",
       "      <td>72.0</td>\n",
       "      <td>73.0</td>\n",
       "      <td>74.0</td>\n",
       "      <td>75.0</td>\n",
       "      <td>76.0</td>\n",
       "      <td>77.0</td>\n",
       "      <td>78.0</td>\n",
       "      <td>79.0</td>\n",
       "    </tr>\n",
       "    <tr>\n",
       "      <th>3</th>\n",
       "      <td>80.0</td>\n",
       "      <td>81.0</td>\n",
       "      <td>82.0</td>\n",
       "      <td>83.0</td>\n",
       "      <td>84.0</td>\n",
       "      <td>85.0</td>\n",
       "      <td>86.0</td>\n",
       "      <td>87.0</td>\n",
       "      <td>88.0</td>\n",
       "      <td>89.0</td>\n",
       "      <td>90.0</td>\n",
       "      <td>91.0</td>\n",
       "      <td>92.0</td>\n",
       "      <td>93.0</td>\n",
       "      <td>94.0</td>\n",
       "      <td>95.0</td>\n",
       "      <td>96.0</td>\n",
       "      <td>97.0</td>\n",
       "      <td>98.0</td>\n",
       "      <td>99.0</td>\n",
       "    </tr>\n",
       "  </tbody>\n",
       "</table>\n",
       "</div>"
      ],
      "text/plain": [
       "    0.0   1.0   2.0   3.0   4.0   5.0   6.0   7.0   8.0   9.0  10.0  11.0  \\\n",
       "0  20.0  21.0  22.0  23.0  24.0  25.0  26.0  27.0  28.0  29.0  30.0  31.0   \n",
       "1  40.0  41.0  42.0  43.0  44.0  45.0  46.0  47.0  48.0  49.0  50.0  51.0   \n",
       "2  60.0  61.0  62.0  63.0  64.0  65.0  66.0  67.0  68.0  69.0  70.0  71.0   \n",
       "3  80.0  81.0  82.0  83.0  84.0  85.0  86.0  87.0  88.0  89.0  90.0  91.0   \n",
       "\n",
       "   12.0  13.0  14.0  15.0  16.0  17.0  18.0  19.0  \n",
       "0  32.0  33.0  34.0  35.0  36.0  37.0  38.0  39.0  \n",
       "1  52.0  53.0  54.0  55.0  56.0  57.0  58.0  59.0  \n",
       "2  72.0  73.0  74.0  75.0  76.0  77.0  78.0  79.0  \n",
       "3  92.0  93.0  94.0  95.0  96.0  97.0  98.0  99.0  "
      ]
     },
     "execution_count": 76,
     "metadata": {},
     "output_type": "execute_result"
    }
   ],
   "source": [
    "# 读取csv文件，并显示\n",
    "import pandas as pd\n",
    "pd.read_csv(\"x.csv\", encoding=\"GB2312\")"
   ]
  },
  {
   "cell_type": "markdown",
   "metadata": {},
   "source": [
    "### (2)读取csv到数组\n",
    "`np.loadtxt(frame,dtype=np.int,delimiter=',',unpack=False)`\n",
    "* unpack：如是True，读入属性将分别写入不同变量"
   ]
  },
  {
   "cell_type": "code",
   "execution_count": 80,
   "metadata": {},
   "outputs": [
    {
     "name": "stdout",
     "output_type": "stream",
     "text": [
      "[[ 0  1  2  3  4  5  6  7  8  9 10 11 12 13 14 15 16 17 18 19]\n",
      " [20 21 22 23 24 25 26 27 28 29 30 31 32 33 34 35 36 37 38 39]\n",
      " [40 41 42 43 44 45 46 47 48 49 50 51 52 53 54 55 56 57 58 59]\n",
      " [60 61 62 63 64 65 66 67 68 69 70 71 72 73 74 75 76 77 78 79]\n",
      " [80 81 82 83 84 85 86 87 88 89 90 91 92 93 94 95 96 97 98 99]]\n"
     ]
    }
   ],
   "source": [
    "y=np.loadtxt('x.csv',dtype=np.int32,delimiter=',')\n",
    "print(y)"
   ]
  },
  {
   "cell_type": "markdown",
   "metadata": {},
   "source": [
    "## 2.普通文件\n",
    "`np.save(fname,array) 或者 np.savez`\n",
    "* frmae:文件名，以.npy格式，压缩文件名.npz .numpy提供的文件格式\n",
    "* array：数组\n",
    "`np.load(fname)`\n",
    "* fname；npy或npz都行\n",
    "---\n",
    "**这两个方法可以有效的做数据缓存，避免内存占用过大。且可以自己保存数组的维度信息，直接恢复即可，非常方便**\n"
   ]
  },
  {
   "cell_type": "code",
   "execution_count": 83,
   "metadata": {},
   "outputs": [
    {
     "name": "stdout",
     "output_type": "stream",
     "text": [
      "[[[ 0  1  2  3  4  5  6  7  8  9]\n",
      "  [10 11 12 13 14 15 16 17 18 19]\n",
      "  [20 21 22 23 24 25 26 27 28 29]\n",
      "  [30 31 32 33 34 35 36 37 38 39]\n",
      "  [40 41 42 43 44 45 46 47 48 49]]\n",
      "\n",
      " [[50 51 52 53 54 55 56 57 58 59]\n",
      "  [60 61 62 63 64 65 66 67 68 69]\n",
      "  [70 71 72 73 74 75 76 77 78 79]\n",
      "  [80 81 82 83 84 85 86 87 88 89]\n",
      "  [90 91 92 93 94 95 96 97 98 99]]]\n"
     ]
    }
   ],
   "source": [
    "x=np.arange(100).reshape((2,5,10))\n",
    "np.save('xx.npy',x)\n",
    "y=np.load('xx.npy')\n",
    "print(y)"
   ]
  },
  {
   "cell_type": "markdown",
   "metadata": {},
   "source": [
    "# 七、随机数及统计函数\n",
    "## 1.随机数函数\n",
    "使用 np.random.* 随机数函数\n",
    "* rand(d0,d1...dn)  根据d0-dn随机生成数组，【0-1】的浮点数，随机分布\n",
    "* randn(d0,d1..dn)  同上，正态分布\n",
    "* randint(low,high,shpae) 范围【low,high】,生成sahpe形状的随机整数数组\n",
    "* seed(s) : 随机数种子，s是给定的种子值"
   ]
  },
  {
   "cell_type": "code",
   "execution_count": 1,
   "metadata": {},
   "outputs": [
    {
     "name": "stdout",
     "output_type": "stream",
     "text": [
      "[[[0.05859738 0.40335639 0.29782203 0.91409685 0.13919125]\n",
      "  [0.47766701 0.54341384 0.29147952 0.33042176 0.4800061 ]\n",
      "  [0.3381066  0.22420062 0.32230819 0.96783153 0.91862354]\n",
      "  [0.90242579 0.59483675 0.26319033 0.7722877  0.07570423]]\n",
      "\n",
      " [[0.73122047 0.45943199 0.65156122 0.54169592 0.08519098]\n",
      "  [0.48383557 0.31936674 0.48238489 0.58306234 0.73581944]\n",
      "  [0.67948575 0.2354313  0.61202152 0.38847745 0.89922679]\n",
      "  [0.31484373 0.55600093 0.97815357 0.03433956 0.56716636]]\n",
      "\n",
      " [[0.15415114 0.63471301 0.65891465 0.44392103 0.04671603]\n",
      "  [0.72893336 0.85989855 0.26096924 0.50542573 0.84240658]\n",
      "  [0.02454416 0.96370102 0.22686249 0.60644684 0.31224993]\n",
      "  [0.12585139 0.65033096 0.98761097 0.1525077  0.35592008]]]\n"
     ]
    }
   ],
   "source": [
    "import numpy as np\n",
    "s1=np.random.rand(3,4,5)\n",
    "print(s1)"
   ]
  },
  {
   "cell_type": "code",
   "execution_count": 2,
   "metadata": {},
   "outputs": [
    {
     "name": "stdout",
     "output_type": "stream",
     "text": [
      "[[[ 0.08882737 -1.02226681  0.51019134  0.43953731 -3.32941883]\n",
      "  [-1.96487036  1.79642241 -0.45235498  0.26374149  0.47574147]\n",
      "  [ 1.74861955 -0.17440129  1.57688406  0.82091758 -2.03856522]\n",
      "  [ 0.88971832 -0.82229959 -1.61650451  1.54030011 -0.75263179]]\n",
      "\n",
      " [[ 0.02601651  0.47227941  1.6799656  -0.62632139  0.45610358]\n",
      "  [-0.22655077 -0.57955559  0.14201874 -0.98113409 -0.53766283]\n",
      "  [-1.82075747 -1.01684113 -0.70962636  0.53995337  0.36468115]\n",
      "  [-0.61565544  0.43525706 -0.36124159 -1.280589    1.28260228]]\n",
      "\n",
      " [[ 1.0660965  -1.78381034  0.61734157 -0.75617022 -0.54702947]\n",
      "  [ 0.68820983 -1.63445934  0.2627312  -1.2442734   1.14761316]\n",
      "  [-0.49733714 -1.02064574 -0.92315099  0.62272899  0.673504  ]\n",
      "  [-0.71330232 -0.53765182  1.3545163  -0.67303164  1.45986423]]]\n"
     ]
    }
   ],
   "source": [
    "s2=np.random.randn(3,4,5)\n",
    "print(s2)"
   ]
  },
  {
   "cell_type": "code",
   "execution_count": 3,
   "metadata": {},
   "outputs": [
    {
     "name": "stdout",
     "output_type": "stream",
     "text": [
      "[[152 130 121 108]\n",
      " [101 103 143 121]\n",
      " [131 151 158 107]]\n"
     ]
    }
   ],
   "source": [
    "s3=np.random.randint(100,200,(3,4))\n",
    "print(s3)"
   ]
  },
  {
   "cell_type": "code",
   "execution_count": 5,
   "metadata": {},
   "outputs": [
    {
     "name": "stdout",
     "output_type": "stream",
     "text": [
      "[[109 115 164 128]\n",
      " [189 193 129 108]\n",
      " [173 100 140 136]]\n",
      "[[109 115 164 128]\n",
      " [189 193 129 108]\n",
      " [173 100 140 136]]\n"
     ]
    }
   ],
   "source": [
    "# 给定同一个随机数种子，可以再次生成相同的随机数数组，测试中很有用\n",
    "np.random.seed(10)\n",
    "s4=np.random.randint(100,200,(3,4))\n",
    "print(s4)\n",
    "np.random.seed(10)\n",
    "s5=np.random.randint(100,200,(3,4))\n",
    "print(s5)"
   ]
  },
  {
   "cell_type": "code",
   "execution_count": null,
   "metadata": {},
   "outputs": [],
   "source": [
    "np."
   ]
  }
 ],
 "metadata": {
  "kernelspec": {
   "display_name": "Python 3",
   "language": "python",
   "name": "python3"
  },
  "language_info": {
   "codemirror_mode": {
    "name": "ipython",
    "version": 3
   },
   "file_extension": ".py",
   "mimetype": "text/x-python",
   "name": "python",
   "nbconvert_exporter": "python",
   "pygments_lexer": "ipython3",
   "version": "3.8.5"
  }
 },
 "nbformat": 4,
 "nbformat_minor": 4
}
