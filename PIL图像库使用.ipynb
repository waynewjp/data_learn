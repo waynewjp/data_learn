{
 "cells": [
  {
   "cell_type": "markdown",
   "id": "least-arrangement",
   "metadata": {},
   "source": [
    "# 一、PIL安装及import\n",
    "PIL库默认anaconda已经安装，如没有用 pip Install pillow\n"
   ]
  },
  {
   "cell_type": "code",
   "execution_count": 10,
   "id": "crucial-nature",
   "metadata": {},
   "outputs": [],
   "source": [
    "from PIL import Image\n",
    "# image是PIL中代表一个图像的类\n",
    "import numpy as np"
   ]
  },
  {
   "cell_type": "markdown",
   "id": "excellent-recovery",
   "metadata": {},
   "source": [
    "# 二、图像的变化\n",
    "## 1.将图像打开并生成Np数组"
   ]
  },
  {
   "cell_type": "code",
   "execution_count": 19,
   "id": "stupid-gender",
   "metadata": {},
   "outputs": [
    {
     "name": "stdout",
     "output_type": "stream",
     "text": [
      "(305, 681, 4) uint8\n"
     ]
    }
   ],
   "source": [
    "a=np.array(Image.open(\"/home/www/jupyter_lab/素材/图片1.png\"))\n",
    "print(a.shape,a.dtype)"
   ]
  },
  {
   "cell_type": "markdown",
   "id": "flying-corrections",
   "metadata": {},
   "source": [
    "## 2.对图像数组做变换再重新生成新的图像"
   ]
  },
  {
   "cell_type": "code",
   "execution_count": 20,
   "id": "portuguese-elizabeth",
   "metadata": {},
   "outputs": [
    {
     "ename": "ValueError",
     "evalue": "operands could not be broadcast together with shapes (3,) (305,681,4) ",
     "output_type": "error",
     "traceback": [
      "\u001b[0;31m---------------------------------------------------------------------------\u001b[0m",
      "\u001b[0;31mValueError\u001b[0m                                Traceback (most recent call last)",
      "\u001b[0;32m<ipython-input-20-b5bd12b697b5>\u001b[0m in \u001b[0;36m<module>\u001b[0;34m\u001b[0m\n\u001b[0;32m----> 1\u001b[0;31m \u001b[0mb\u001b[0m\u001b[0;34m=\u001b[0m\u001b[0;34m[\u001b[0m\u001b[0;36m255\u001b[0m\u001b[0;34m,\u001b[0m\u001b[0;36m255\u001b[0m\u001b[0;34m,\u001b[0m\u001b[0;36m255\u001b[0m\u001b[0;34m]\u001b[0m\u001b[0;34m-\u001b[0m\u001b[0ma\u001b[0m\u001b[0;34m\u001b[0m\u001b[0;34m\u001b[0m\u001b[0m\n\u001b[0m\u001b[1;32m      2\u001b[0m \u001b[0mim\u001b[0m\u001b[0;34m=\u001b[0m\u001b[0mImage\u001b[0m\u001b[0;34m.\u001b[0m\u001b[0mfromarray\u001b[0m\u001b[0;34m(\u001b[0m\u001b[0mb\u001b[0m\u001b[0;34m.\u001b[0m\u001b[0mastype\u001b[0m\u001b[0;34m(\u001b[0m\u001b[0;34m'uint8'\u001b[0m\u001b[0;34m)\u001b[0m\u001b[0;34m)\u001b[0m\u001b[0;34m\u001b[0m\u001b[0;34m\u001b[0m\u001b[0m\n\u001b[1;32m      3\u001b[0m \u001b[0mim\u001b[0m\u001b[0;34m.\u001b[0m\u001b[0msave\u001b[0m\u001b[0;34m(\u001b[0m\u001b[0;34m'/home/www/jupyter_lab/素材/图片2.jpg'\u001b[0m\u001b[0;34m)\u001b[0m\u001b[0;34m\u001b[0m\u001b[0;34m\u001b[0m\u001b[0m\n",
      "\u001b[0;31mValueError\u001b[0m: operands could not be broadcast together with shapes (3,) (305,681,4) "
     ]
    }
   ],
   "source": [
    "b=[255,255,255]-a\n",
    "im=Image.fromarray(b.astype('uint8'))\n",
    "im.save('/home/www/jupyter_lab/素材/图片2.jpg')"
   ]
  },
  {
   "cell_type": "code",
   "execution_count": null,
   "id": "controlling-trauma",
   "metadata": {},
   "outputs": [],
   "source": []
  }
 ],
 "metadata": {
  "kernelspec": {
   "display_name": "Python 3",
   "language": "python",
   "name": "python3"
  },
  "language_info": {
   "codemirror_mode": {
    "name": "ipython",
    "version": 3
   },
   "file_extension": ".py",
   "mimetype": "text/x-python",
   "name": "python",
   "nbconvert_exporter": "python",
   "pygments_lexer": "ipython3",
   "version": "3.8.3"
  }
 },
 "nbformat": 4,
 "nbformat_minor": 5
}
