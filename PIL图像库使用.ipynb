{
 "cells": [
  {
   "cell_type": "markdown",
   "id": "opposite-venezuela",
   "metadata": {},
   "source": [
    "# 一、PIL安装及import\n",
    "PIL库默认anaconda已经安装，如没有用 pip Install pillow\n"
   ]
  },
  {
   "cell_type": "code",
   "execution_count": 10,
   "id": "architectural-theater",
   "metadata": {},
   "outputs": [],
   "source": [
    "from PIL import Image\n",
    "# image是PIL中代表一个图像的类\n",
    "import numpy as np"
   ]
  },
  {
   "cell_type": "markdown",
   "id": "foreign-moment",
   "metadata": {},
   "source": [
    "# 二、图像的变化\n",
    "## 1.将图像打开并生成Np数组"
   ]
  },
  {
   "cell_type": "code",
   "execution_count": 25,
   "id": "disabled-vintage",
   "metadata": {},
   "outputs": [
    {
     "name": "stdout",
     "output_type": "stream",
     "text": [
      "(1920, 1080, 3) uint8\n"
     ]
    }
   ],
   "source": [
    "a=np.array(Image.open(\"/home/www/jupyter_lab/素材/图片1.jpg\"))\n",
    "print(a.shape,a.dtype)"
   ]
  },
  {
   "cell_type": "markdown",
   "id": "legislative-prevention",
   "metadata": {},
   "source": [
    "## 2.对图像数组做变换再重新生成新的图像\n",
    "* 对原图像RGB三个值计算最大255的补值"
   ]
  },
  {
   "cell_type": "code",
   "execution_count": 26,
   "id": "gothic-contributor",
   "metadata": {},
   "outputs": [],
   "source": [
    "b=[255,255,255]-a\n",
    "im=Image.fromarray(b.astype('uint8'))\n",
    "im.save('/home/www/jupyter_lab/素材/图片2.jpg')"
   ]
  },
  {
   "cell_type": "code",
   "execution_count": null,
   "id": "continuous-drama",
   "metadata": {},
   "outputs": [],
   "source": []
  },
  {
   "cell_type": "code",
   "execution_count": null,
   "id": "bizarre-bunch",
   "metadata": {},
   "outputs": [],
   "source": []
  }
 ],
 "metadata": {
  "kernelspec": {
   "display_name": "Python 3",
   "language": "python",
   "name": "python3"
  },
  "language_info": {
   "codemirror_mode": {
    "name": "ipython",
    "version": 3
   },
   "file_extension": ".py",
   "mimetype": "text/x-python",
   "name": "python",
   "nbconvert_exporter": "python",
   "pygments_lexer": "ipython3",
   "version": "3.8.3"
  }
 },
 "nbformat": 4,
 "nbformat_minor": 5
}
